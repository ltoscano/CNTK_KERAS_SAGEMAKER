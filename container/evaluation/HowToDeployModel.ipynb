{
 "cells": [
  {
   "cell_type": "code",
   "execution_count": 28,
   "metadata": {
    "collapsed": true
   },
   "outputs": [],
   "source": [
    "from sagemaker import get_execution_role\n",
    "import sagemaker as sage\n",
    "import boto3\n",
    "import time"
   ]
  },
  {
   "cell_type": "code",
   "execution_count": 22,
   "metadata": {},
   "outputs": [],
   "source": [
    "role = get_execution_role()\n",
    "sess = sage.Session()\n",
    "sm = boto3.client('sagemaker')\n",
    "account = sess.boto_session.client('sts').get_caller_identity()['Account']\n",
    "region = sess.boto_session.region_name"
   ]
  },
  {
   "cell_type": "code",
   "execution_count": 23,
   "metadata": {
    "collapsed": true
   },
   "outputs": [],
   "source": [
    "model = 'cntkdemo-ecr-demo-model' # just an arbitrary name for the model instantiation"
   ]
  },
  {
   "cell_type": "code",
   "execution_count": 24,
   "metadata": {
    "collapsed": true
   },
   "outputs": [],
   "source": [
    "# setup model artifact uri (see the \"HowToPrepare\" notebook)\n",
    "model_data = 's3://sagemaker-{}-{}/output/cntkdemo-ecr-4-2018-01-21-13-26-49-604/output/model.tar.gz'.format(region,account)"
   ]
  },
  {
   "cell_type": "code",
   "execution_count": 25,
   "metadata": {
    "collapsed": true
   },
   "outputs": [],
   "source": [
    "# setup image reference name\n",
    "image = '{}.dkr.ecr.{}.amazonaws.com/cntkdemo-ecr-4'.format(account, region) # image name on ECR"
   ]
  },
  {
   "cell_type": "code",
   "execution_count": null,
   "metadata": {},
   "outputs": [],
   "source": [
    "%%time\n",
    "create_model_response = sm.create_model(\n",
    "    ModelName=model,\n",
    "    ExecutionRoleArn=role,\n",
    "    PrimaryContainer={\n",
    "        'Image': image,\n",
    "        'ModelDataUrl': model_data\n",
    "    }\n",
    ")\n",
    "\n",
    "print(create_model_response['ModelArn'])"
   ]
  },
  {
   "cell_type": "code",
   "execution_count": 30,
   "metadata": {},
   "outputs": [],
   "source": [
    "# configuring endpoint\n",
    "cntkdemo_endpoint_config = 'cntkdemo-poc-endpoint-config-' + time.strftime(\"%Y-%m-%d-%H-%M-%S\", time.gmtime())\n",
    "cntkdemo_endpoint = 'cntkdemo-poc-endpoint-' + time.strftime(\"%Y%m%d%H%M\", time.gmtime())"
   ]
  },
  {
   "cell_type": "code",
   "execution_count": null,
   "metadata": {},
   "outputs": [],
   "source": [
    "%%time\n",
    "create_endpoint_config_response = sm.create_endpoint_config(\n",
    "    EndpointConfigName=cntkdemo_endpoint_config,\n",
    "    ProductionVariants=[{\n",
    "        'InstanceType': 'ml.m4.xlarge',\n",
    "        'InitialInstanceCount': 1,\n",
    "        'ModelName': model,\n",
    "        'VariantName': 'cntkdemo'}])\n",
    "\n",
    "print(\"Endpoint Config Arn: \" + create_endpoint_config_response['EndpointConfigArn'])"
   ]
  },
  {
   "cell_type": "code",
   "execution_count": null,
   "metadata": {},
   "outputs": [],
   "source": [
    "%%time\n",
    "# be patience this block can require 5 or more minutes for the execution\n",
    "create_endpoint_response = sm.create_endpoint(\n",
    "    EndpointName=cntkdemo_endpoint,\n",
    "    EndpointConfigName=cntkdemo_endpoint_config)\n",
    "\n",
    "resp = sm.describe_endpoint(EndpointName=cntkdemo_endpoint)\n",
    "\n",
    "status = resp['EndpointStatus']\n",
    "print(\"Status: \" + status)\n",
    "\n",
    "sm.get_waiter('endpoint_in_service').wait(EndpointName=cntkdemo_endpoint)\n",
    "\n",
    "resp = sm.describe_endpoint(EndpointName=cntkdemo_endpoint)\n",
    "\n",
    "status = resp['EndpointStatus']\n",
    "print(\"Status: \" + status)\n",
    "\n",
    "print(\"Arn: \" + resp['EndpointArn'])\n",
    "\n",
    "if status != 'InService':\n",
    "    print ('Endpoint creation did not succeed')"
   ]
  },
  {
   "cell_type": "code",
   "execution_count": 35,
   "metadata": {},
   "outputs": [
    {
     "name": "stdout",
     "output_type": "stream",
     "text": [
      "cntkdemo-poc-endpoint-201801240604\n"
     ]
    }
   ],
   "source": [
    "print (cntkdemo_endpoint)"
   ]
  },
  {
   "cell_type": "code",
   "execution_count": null,
   "metadata": {
    "collapsed": true
   },
   "outputs": [],
   "source": []
  }
 ],
 "metadata": {
  "kernelspec": {
   "display_name": "conda_python3",
   "language": "python",
   "name": "conda_python3"
  },
  "language_info": {
   "codemirror_mode": {
    "name": "ipython",
    "version": 3
   },
   "file_extension": ".py",
   "mimetype": "text/x-python",
   "name": "python",
   "nbconvert_exporter": "python",
   "pygments_lexer": "ipython3",
   "version": "3.6.2"
  }
 },
 "nbformat": 4,
 "nbformat_minor": 2
}
